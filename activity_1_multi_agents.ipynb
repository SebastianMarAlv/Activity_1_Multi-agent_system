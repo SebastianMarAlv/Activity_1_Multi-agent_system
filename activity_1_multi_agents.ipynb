{
 "cells": [
  {
   "cell_type": "markdown",
   "metadata": {
    "collapsed": true,
    "pycharm": {
     "name": "#%% md\n"
    }
   },
   "source": [
    "# Multi-agents cleaners simulation\n",
    "### by *Sebastián Márquez Álvarez A01632483*"
   ]
  },
  {
   "cell_type": "markdown",
   "source": [
    "## About this model\n",
    "\n",
    "This report studies the behaviour and characteristics of a multi-agent system modeling a set of autonomous cleaners\n",
    "with the objective of analysing the effectiveness of it's programmed behavior and related data to the simulation."
   ],
   "metadata": {
    "collapsed": false
   }
  },
  {
   "cell_type": "markdown",
   "source": [
    "## Imported libraries"
   ],
   "metadata": {
    "collapsed": false,
    "pycharm": {
     "name": "#%% md\n"
    }
   }
  },
  {
   "cell_type": "code",
   "execution_count": 1,
   "outputs": [],
   "source": [
    "# Agents library\n",
    "import agentpy as ap\n",
    "\n",
    "# Visualization\n",
    "import seaborn as sns\n",
    "\n",
    "# Other imports\n",
    "from random import choice\n",
    "from time import time"
   ],
   "metadata": {
    "collapsed": false,
    "pycharm": {
     "name": "#%%\n"
    }
   }
  },
  {
   "cell_type": "markdown",
   "source": [
    "## Agents code\n",
    "\n",
    "### Cleaner agent"
   ],
   "metadata": {
    "collapsed": false,
    "pycharm": {
     "name": "#%% md\n"
    }
   }
  },
  {
   "cell_type": "code",
   "execution_count": 2,
   "outputs": [],
   "source": [
    "class Cleaner(ap.Agent):\n",
    "    cleaners_counter = 0\n",
    "    allowed_moves = (\n",
    "        (1, 0),  # right\n",
    "        (1, 1),  # top_right\n",
    "        (0, 1),  # top\n",
    "        (-1, 1),  # top_left\n",
    "        (-1, 0),  # left\n",
    "        (-1, -1),  # bottom_left\n",
    "        (0, -1),  # bottom\n",
    "        (1, -1)  # bottom_right\n",
    "    )\n",
    "\n",
    "    def setup(self):\n",
    "        Cleaner.cleaners_counter += 1\n",
    "        self.cleaned_spaces = 0\n",
    "        self.position = (0, 0)\n",
    "\n",
    "    def get_position(self):\n",
    "        self.position: tuple[int, int] = self.model.grid.positions[self]\n",
    "\n",
    "    def move(self):\n",
    "        move_direction = choice(Cleaner.allowed_moves)\n",
    "        new_position = (move_direction[0] + self.position[0], move_direction[1] + self.position[1])\n",
    "        if 0 <= new_position[0] < self.model.width and 0 <= new_position[1] < self.model.height:\n",
    "            self.model.grid.move_by(self, choice(Cleaner.allowed_moves))\n",
    "\n",
    "    def move_or_clean(self):\n",
    "        cleaning_done = False\n",
    "        agents_in_current_pos = self.model.grid.neighbors(self, 0)  # Get all other agents in the same square\n",
    "        dirt = None\n",
    "        for agent in agents_in_current_pos:\n",
    "            if agent.type == \"Dirt\":\n",
    "                dirt = agent\n",
    "                self.model.dirty_squares_num -= 1\n",
    "                self.cleaned_spaces += 1\n",
    "        if dirt:\n",
    "            self.model.grid.remove_agents(dirt)\n",
    "\n",
    "        if not cleaning_done:\n",
    "            self.move()\n"
   ],
   "metadata": {
    "collapsed": false,
    "pycharm": {
     "name": "#%%\n"
    }
   }
  },
  {
   "cell_type": "markdown",
   "source": [
    "### Dirt agent"
   ],
   "metadata": {
    "collapsed": false
   }
  },
  {
   "cell_type": "code",
   "execution_count": 3,
   "outputs": [],
   "source": [
    "class Dirt(ap.Agent):\n",
    "    dirt_counter = 0\n",
    "\n",
    "    def setup(self):\n",
    "        Dirt.dirt_counter += 1"
   ],
   "metadata": {
    "collapsed": false,
    "pycharm": {
     "name": "#%%\n"
    }
   }
  },
  {
   "cell_type": "markdown",
   "source": [
    "### Model using a grid (discrete)"
   ],
   "metadata": {
    "collapsed": false,
    "pycharm": {
     "name": "#%% md\n"
    }
   }
  },
  {
   "cell_type": "code",
   "execution_count": 4,
   "outputs": [],
   "source": [
    "class CleanersModel(ap.Model):\n",
    "\n",
    "    def setup(self):\n",
    "        self.width: int = self.p.width\n",
    "        self.height: int = self.p.height\n",
    "        self.num_cleaners: int = self.p.num_cleaners\n",
    "        self.dirt_per: float = self.p.dirt_per\n",
    "\n",
    "        self.dirty_squares_num = int(self.width * self.height * self.dirt_per)\n",
    "\n",
    "        self.cleaners = ap.AgentDList(self, self.num_cleaners, Cleaner)\n",
    "        self.dirt = ap.AgentDList(self, self.dirty_squares_num, Dirt)\n",
    "\n",
    "        self.grid = ap.Grid(self, (self.width, self.height), track_empty=True)\n",
    "        self.grid.add_agents(self.cleaners, [(0, 0) for _ in range(self.num_cleaners)])\n",
    "        self.grid.add_agents(self.dirt, random=True, empty=True)\n",
    "        self.start_time = time()\n",
    "\n",
    "    def step(self):\n",
    "        self.cleaners.get_position()\n",
    "        self.cleaners.move_or_clean()\n",
    "        if self.dirty_squares_num == 0:\n",
    "            self.stop()\n",
    "\n",
    "    def update(self):\n",
    "        self.cleaners.record('cleaned_spaces')\n",
    "\n",
    "    def end(self):\n",
    "        self.report('Time elapsed', time() - self.start_time)\n",
    "        self.report('Percentage of clean squares', (self.width * self.height - self.dirty_squares_num) / (self.width * self.height))\n",
    "        self.report('Time steps done', self.t)"
   ],
   "metadata": {
    "collapsed": false,
    "pycharm": {
     "name": "#%%\n"
    }
   }
  },
  {
   "cell_type": "markdown",
   "source": [
    "## Tests and graphs with different parameters as input\n",
    "\n",
    "### Different ***dirt percentages***"
   ],
   "metadata": {
    "collapsed": false,
    "pycharm": {
     "name": "#%% md\n"
    }
   }
  },
  {
   "cell_type": "code",
   "execution_count": 5,
   "outputs": [],
   "source": [
    "parameters = {\n",
    "    'width': 30,\n",
    "    'height': 30,\n",
    "    'num_cleaners': 10,\n",
    "    'dirt_per': ap.Range(0.15, 0.75), # Dirt ranges from 20% to 60% of all squares\n",
    "    'steps': 10000\n",
    "}"
   ],
   "metadata": {
    "collapsed": false,
    "pycharm": {
     "name": "#%%\n"
    }
   }
  },
  {
   "cell_type": "code",
   "execution_count": 6,
   "outputs": [],
   "source": [
    "# Prepare parameter sample\n",
    "sample = ap.Sample(parameters, n=13)"
   ],
   "metadata": {
    "collapsed": false,
    "pycharm": {
     "name": "#%%\n"
    }
   }
  },
  {
   "cell_type": "code",
   "execution_count": null,
   "outputs": [
    {
     "name": "stdout",
     "output_type": "stream",
     "text": [
      "Scheduled runs: 260\n",
      "Completed: 240, estimated time remaining: 0:00:15"
     ]
    }
   ],
   "source": [
    "# Perform experiment\n",
    "num_experiments = 20\n",
    "exp = ap.Experiment(CleanersModel, sample, num_experiments)\n",
    "results = exp.run()"
   ],
   "metadata": {
    "collapsed": false,
    "pycharm": {
     "name": "#%%\n",
     "is_executing": true
    }
   }
  },
  {
   "cell_type": "code",
   "execution_count": null,
   "outputs": [],
   "source": [
    "# Save and load data\n",
    "results.save()\n",
    "results = ap.DataDict.load('CleanersModel')"
   ],
   "metadata": {
    "collapsed": false,
    "pycharm": {
     "name": "#%%\n",
     "is_executing": true
    }
   }
  },
  {
   "cell_type": "code",
   "execution_count": null,
   "outputs": [],
   "source": [
    "# Plot sensitivity\n",
    "sns.set_theme()\n",
    "sns.lineplot(\n",
    "    data=results.arrange_reporters(),\n",
    "    x='dirt_per',\n",
    "    y='Time elapsed'\n",
    ")"
   ],
   "metadata": {
    "collapsed": false,
    "pycharm": {
     "name": "#%%\n",
     "is_executing": true
    }
   }
  },
  {
   "cell_type": "code",
   "execution_count": null,
   "outputs": [],
   "source": [
    "sns.lineplot(\n",
    "    data=results.arrange_reporters(),\n",
    "    x='dirt_per',\n",
    "    y='Percentage of clean squares'\n",
    ")"
   ],
   "metadata": {
    "collapsed": false,
    "pycharm": {
     "name": "#%%\n",
     "is_executing": true
    }
   }
  },
  {
   "cell_type": "code",
   "execution_count": null,
   "outputs": [],
   "source": [
    "sns.lineplot(\n",
    "    data=results.arrange_reporters(),\n",
    "    x='dirt_per',\n",
    "    y='Time steps done'\n",
    ")"
   ],
   "metadata": {
    "collapsed": false,
    "pycharm": {
     "name": "#%%\n",
     "is_executing": true
    }
   }
  },
  {
   "cell_type": "markdown",
   "source": [
    "### Different ***maximum steps***"
   ],
   "metadata": {
    "collapsed": false
   }
  },
  {
   "cell_type": "code",
   "execution_count": null,
   "outputs": [],
   "source": [
    "parameters = {\n",
    "    'width': 30,\n",
    "    'height': 30,\n",
    "    'num_cleaners': 10,\n",
    "    'dirt_per': 0.4,\n",
    "    'steps': ap.Range(10, 10000) # Number of steps ranges from 10 to 10000\n",
    "}"
   ],
   "metadata": {
    "collapsed": false,
    "pycharm": {
     "name": "#%%\n",
     "is_executing": true
    }
   }
  },
  {
   "cell_type": "code",
   "execution_count": null,
   "outputs": [],
   "source": [
    "# Prepare parameter sample\n",
    "sample = ap.Sample(parameters, n=13)"
   ],
   "metadata": {
    "collapsed": false,
    "pycharm": {
     "name": "#%%\n",
     "is_executing": true
    }
   }
  },
  {
   "cell_type": "code",
   "execution_count": null,
   "outputs": [],
   "source": [
    "# Perform experiment\n",
    "num_experiments = 20\n",
    "exp = ap.Experiment(CleanersModel, sample, num_experiments)\n",
    "results = exp.run()"
   ],
   "metadata": {
    "collapsed": false,
    "pycharm": {
     "name": "#%%\n",
     "is_executing": true
    }
   }
  },
  {
   "cell_type": "code",
   "execution_count": null,
   "outputs": [],
   "source": [
    "# Save and load data\n",
    "results.save()\n",
    "results = ap.DataDict.load('CleanersModel')"
   ],
   "metadata": {
    "collapsed": false,
    "pycharm": {
     "name": "#%%\n",
     "is_executing": true
    }
   }
  },
  {
   "cell_type": "code",
   "execution_count": null,
   "outputs": [],
   "source": [
    "# Plot sensitivity\n",
    "sns.set_theme()\n",
    "sns.lineplot(\n",
    "    data=results.arrange_reporters(),\n",
    "    x='steps',\n",
    "    y='Time elapsed'\n",
    ")"
   ],
   "metadata": {
    "collapsed": false,
    "pycharm": {
     "name": "#%%\n",
     "is_executing": true
    }
   }
  },
  {
   "cell_type": "code",
   "execution_count": null,
   "outputs": [],
   "source": [
    "sns.lineplot(\n",
    "    data=results.arrange_reporters(),\n",
    "    x='steps',\n",
    "    y='Percentage of clean squares'\n",
    ")"
   ],
   "metadata": {
    "collapsed": false,
    "pycharm": {
     "name": "#%%\n",
     "is_executing": true
    }
   }
  },
  {
   "cell_type": "code",
   "execution_count": null,
   "outputs": [],
   "source": [
    "sns.lineplot(\n",
    "    data=results.arrange_reporters(),\n",
    "    x='steps',\n",
    "    y='Time steps done'\n",
    ")"
   ],
   "metadata": {
    "collapsed": false,
    "pycharm": {
     "name": "#%%\n",
     "is_executing": true
    }
   }
  },
  {
   "cell_type": "markdown",
   "source": [
    "### Different ***number of cleaners***"
   ],
   "metadata": {
    "collapsed": false
   }
  },
  {
   "cell_type": "code",
   "execution_count": null,
   "outputs": [],
   "source": [
    "parameters = {\n",
    "    'width': 30,\n",
    "    'height': 30,\n",
    "    'num_cleaners': ap.Range(5, 60), # Number of cleaners ranges from 5 to 60\n",
    "    'dirt_per': 0.4,\n",
    "    'steps': ap.Range(10, 10000)\n",
    "}"
   ],
   "metadata": {
    "collapsed": false,
    "pycharm": {
     "name": "#%%\n",
     "is_executing": true
    }
   }
  },
  {
   "cell_type": "code",
   "execution_count": null,
   "outputs": [],
   "source": [
    "# Prepare parameter sample\n",
    "sample = ap.Sample(parameters, n=13)"
   ],
   "metadata": {
    "collapsed": false,
    "pycharm": {
     "name": "#%%\n",
     "is_executing": true
    }
   }
  },
  {
   "cell_type": "code",
   "execution_count": null,
   "outputs": [],
   "source": [
    "# Perform experiment\n",
    "num_experiments = 20\n",
    "exp = ap.Experiment(CleanersModel, sample, num_experiments)\n",
    "results = exp.run()"
   ],
   "metadata": {
    "collapsed": false,
    "pycharm": {
     "name": "#%%\n",
     "is_executing": true
    }
   }
  },
  {
   "cell_type": "code",
   "execution_count": null,
   "outputs": [],
   "source": [
    "# Save and load data\n",
    "results.save()\n",
    "results = ap.DataDict.load('CleanersModel')"
   ],
   "metadata": {
    "collapsed": false,
    "pycharm": {
     "name": "#%%\n",
     "is_executing": true
    }
   }
  },
  {
   "cell_type": "code",
   "execution_count": null,
   "outputs": [],
   "source": [
    "# Plot sensitivity\n",
    "sns.set_theme()\n",
    "sns.lineplot(\n",
    "    data=results.arrange_reporters(),\n",
    "    x='num_cleaners',\n",
    "    y='Time elapsed'\n",
    ")"
   ],
   "metadata": {
    "collapsed": false,
    "pycharm": {
     "name": "#%%\n",
     "is_executing": true
    }
   }
  },
  {
   "cell_type": "code",
   "execution_count": null,
   "outputs": [],
   "source": [
    "sns.lineplot(\n",
    "    data=results.arrange_reporters(),\n",
    "    x='num_cleaners',\n",
    "    y='Percentage of clean squares'\n",
    ")"
   ],
   "metadata": {
    "collapsed": false,
    "pycharm": {
     "name": "#%%\n",
     "is_executing": true
    }
   }
  },
  {
   "cell_type": "code",
   "execution_count": null,
   "outputs": [],
   "source": [
    "sns.lineplot(\n",
    "    data=results.arrange_reporters(),\n",
    "    x='num_cleaners',\n",
    "    y='Time steps done'\n",
    ")"
   ],
   "metadata": {
    "collapsed": false,
    "pycharm": {
     "name": "#%%\n",
     "is_executing": true
    }
   }
  }
 ],
 "metadata": {
  "kernelspec": {
   "display_name": "Python 3",
   "language": "python",
   "name": "python3"
  },
  "language_info": {
   "codemirror_mode": {
    "name": "ipython",
    "version": 2
   },
   "file_extension": ".py",
   "mimetype": "text/x-python",
   "name": "python",
   "nbconvert_exporter": "python",
   "pygments_lexer": "ipython2",
   "version": "2.7.6"
  }
 },
 "nbformat": 4,
 "nbformat_minor": 0
}